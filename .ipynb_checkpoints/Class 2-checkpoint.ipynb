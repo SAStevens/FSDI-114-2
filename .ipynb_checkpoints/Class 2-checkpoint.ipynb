{
 "cells": [
  {
   "cell_type": "code",
   "execution_count": 10,
   "id": "c15195e1",
   "metadata": {},
   "outputs": [],
   "source": [
    "# The simplified approach\n",
    "\n",
    "class Stack:\n",
    "    def __init__(self):\n",
    "        self.items = []\n",
    "        \n",
    "    def push(self, element):\n",
    "        self.items.append(element)\n",
    "\n",
    "    def pop(self):\n",
    "        return self.items.pop()\n",
    "\n",
    "    # nice to have methods:\n",
    "    def is_empty(self):\n",
    "        return self.items == []\n",
    "\n",
    "    def size(self):\n",
    "        return len(self.items)\n",
    "\n",
    "    def peek(self):\n",
    "        return self.items[len(self.items)-1]\n"
   ]
  },
  {
   "cell_type": "code",
   "execution_count": 12,
   "id": "cde192c5",
   "metadata": {},
   "outputs": [
    {
     "data": {
      "text/plain": [
       "'samohT'"
      ]
     },
     "execution_count": 12,
     "metadata": {},
     "output_type": "execute_result"
    }
   ],
   "source": [
    "def invert_str(mystring):\n",
    "    stack = Stack()\n",
    "    for letter in mystring:\n",
    "        stack.push(letter)\n",
    "    out = \"\"\n",
    "    while not stack.is_empty():\n",
    "        out += stack.pop()\n",
    "    return out\n",
    "\n",
    "invert_str(\"Thomas\")"
   ]
  },
  {
   "cell_type": "code",
   "execution_count": 13,
   "id": "64c60b49",
   "metadata": {},
   "outputs": [],
   "source": [
    "class Node:\n",
    "    def __init__(self, data):\n",
    "        self.data = data\n",
    "        self.above = None\n"
   ]
  },
  {
   "cell_type": "code",
   "execution_count": 16,
   "id": "a78c41ea",
   "metadata": {},
   "outputs": [],
   "source": [
    "# C Python\n",
    "# A garbage collected programming language\n",
    "# Reference counting\n",
    "# When the number of references for an object in memory reaches 0, it is \"collected\" (memory is freed up).\n",
    "\n",
    "class Stack:\n",
    "    def __init__(self):\n",
    "        self.base = None\n",
    "        \n",
    "    def push(self, element):\n",
    "        # what happens if our stack is empty and push is called?\n",
    "        new_node = Node(element)\n",
    "        if not self.base:               # O(1)\n",
    "            self.base = new_node\n",
    "        else: \n",
    "            current = self.base         \n",
    "            while current.above:         # This is a recipe for traversal using memory address (pass by reference).\n",
    "                current = current.above\n",
    "            current.above = new_node\n",
    "            \n",
    "    def pop(self):\n",
    "        if not self.base:                          # Equivalent to \"if self.base == None\"\n",
    "            raise IndexError(\"Stack is empty\")     # Raise an exception\n",
    "        else: \n",
    "            current = self.base\n",
    "            prev = None         \n",
    "            while current.above:\n",
    "                prev = current\n",
    "                current = current.above\n",
    "            if not prev:\n",
    "                datum = self.base.data\n",
    "                self.base = None\n",
    "                return datum\n",
    "            else:\n",
    "                datum = current.data\n",
    "                prev.above = None\n",
    "                return datum\n",
    "            \n",
    "    def is_empty(self):\n",
    "        return self.base == None\n",
    "    \n",
    "    def size(self):\n",
    "        # This method should return the number (integer) of nodes in our stack.\n",
    "        count = 0\n",
    "        current = self.base\n",
    "        while current:\n",
    "            count += 1\n",
    "            current = current.above\n",
    "        return count\n",
    "    \n",
    "    def peek(self):                            #Pop without removing the node in question(?).\n",
    "        if not self.base:                          # Equivalent to \"if self.base == None\"\n",
    "            return None\n",
    "        else: \n",
    "            current = self.base\n",
    "            while current.above:\n",
    "                current = current.above\n",
    "            return current.data\n",
    "            \n",
    "    def __len__(self):\n",
    "        return self.size()\n"
   ]
  },
  {
   "cell_type": "code",
   "execution_count": 14,
   "id": "ab68cc04",
   "metadata": {},
   "outputs": [
    {
     "name": "stdout",
     "output_type": "stream",
     "text": [
      "6\n",
      "5\n",
      "139653719867792\n",
      "139653719867760\n"
     ]
    }
   ],
   "source": [
    "# Primary data types (native) are passed by value\n",
    "# integers, floats, boolean, imaginary\n",
    "# Pass by value\n",
    "\n",
    "x = 5\n",
    "y = x\n",
    "\n",
    "x = x + 1\n",
    "\n",
    "print(x)\n",
    "print(y)\n",
    "print(id(x))\n",
    "print(id(y))\n"
   ]
  },
  {
   "cell_type": "code",
   "execution_count": 15,
   "id": "d1862090",
   "metadata": {},
   "outputs": [
    {
     "name": "stdout",
     "output_type": "stream",
     "text": [
      "[1, 2, 3, 4]\n",
      "[1, 2, 3, 4]\n",
      "139653615021952\n",
      "139653615021952\n"
     ]
    }
   ],
   "source": [
    "# Other data types\n",
    "# Pass by reference\n",
    "\n",
    "x = [1, 2, 3]\n",
    "\n",
    "y = x\n",
    "\n",
    "x.append(4)\n",
    "\n",
    "print(x)\n",
    "print(y)\n",
    "print(id(x))\n",
    "print(id(y))\n"
   ]
  },
  {
   "cell_type": "code",
   "execution_count": 18,
   "id": "086caae6",
   "metadata": {},
   "outputs": [
    {
     "data": {
      "text/plain": [
       "'samohT'"
      ]
     },
     "execution_count": 18,
     "metadata": {},
     "output_type": "execute_result"
    }
   ],
   "source": [
    "def invert_str(mystring):\n",
    "    stack = Stack()\n",
    "    for letter in mystring:\n",
    "        stack.push(letter)\n",
    "    out = \"\"\n",
    "    while not stack.is_empty():\n",
    "        out += stack.pop()\n",
    "    return out\n",
    "\n",
    "invert_str(\"Thomas\")"
   ]
  },
  {
   "cell_type": "code",
   "execution_count": 19,
   "id": "60c6d764",
   "metadata": {},
   "outputs": [],
   "source": [
    "# Simplified queue\n",
    "\n",
    "class Queue:\n",
    "    def __init__(self):\n",
    "        self.items = []\n",
    "        \n",
    "    def enqueue(self, element):\n",
    "        self.items.insert(0, element)\n",
    "        \n",
    "    def dequeue(self):\n",
    "        return self.items.pop()\n",
    "    \n",
    "    # nice to have\n",
    "    def is_empty(self):\n",
    "        return self.items == []\n",
    "    \n",
    "    def size(self):\n",
    "        return len(self.items)\n",
    "    \n",
    "    def peek(self):\n",
    "        return self.items[len(self.items)-1]\n"
   ]
  },
  {
   "cell_type": "code",
   "execution_count": null,
   "id": "726a501c",
   "metadata": {},
   "outputs": [],
   "source": [
    "# In our stack implementation, we chose to keep track of the base node; How would keeping track of the \n",
    "# top node change performance?\n",
    "# As a follow up, what operations (or methods) would need to change?\n",
    "\n",
    "#Extra:\n",
    "#Try your hand at the \"from scratch\" implementation for Queue.\n"
   ]
  }
 ],
 "metadata": {
  "kernelspec": {
   "display_name": "Python 3 (ipykernel)",
   "language": "python",
   "name": "python3"
  },
  "language_info": {
   "codemirror_mode": {
    "name": "ipython",
    "version": 3
   },
   "file_extension": ".py",
   "mimetype": "text/x-python",
   "name": "python",
   "nbconvert_exporter": "python",
   "pygments_lexer": "ipython3",
   "version": "3.10.6"
  }
 },
 "nbformat": 4,
 "nbformat_minor": 5
}
