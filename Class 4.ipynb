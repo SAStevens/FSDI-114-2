{
 "cells": [
  {
   "cell_type": "code",
   "execution_count": 15,
   "id": "cf3b6bc2",
   "metadata": {},
   "outputs": [],
   "source": [
    "# SinglyLinkedList implementation\n",
    "\n",
    "\n",
    "class SinglyLinkedList:\n",
    "    class Node:\n",
    "        def __init__(self, data):\n",
    "            self.data = data\n",
    "            self.next = None\n",
    "            \n",
    "    def __init__(self):\n",
    "        self.head = None \n",
    "\n",
    "    def append(self, value):\n",
    "        new_node = self.Node(value)\n",
    "        if not self.head:                     # if self.head is equal (==) to None\n",
    "            self.head = new_node\n",
    "        else:\n",
    "            current = self.head\n",
    "            while current.next:\n",
    "                current = current.next          # Traverse the nodes\n",
    "            current.next = new_node\n",
    "             \n",
    "    def insert(self, index, value):\n",
    "        if not self.head: \n",
    "            new_node = self.Node(value)\n",
    "        else:\n",
    "      \n",
    "    \n",
    "       \n",
    "    def __str__(self):\n",
    "        out = \"[\"\n",
    "        if self.head:\n",
    "            out += \"%s\" % self.head.data\n",
    "            current = self.head.next\n",
    "            while current:                          # while current != (does not equal) None\n",
    "                out += \", %s\" % current.data\n",
    "                current = current.next\n",
    "        out += \"]\"\n",
    "        return out\n"
   ]
  },
  {
   "cell_type": "code",
   "execution_count": 2,
   "id": "cf5e7b17",
   "metadata": {},
   "outputs": [
    {
     "name": "stdout",
     "output_type": "stream",
     "text": [
      "[]\n",
      "[1]\n",
      "[1, 2, 3]\n"
     ]
    }
   ],
   "source": [
    "# How python usually prints lists:\n",
    "# Empty list:\n",
    "print([])\n",
    "# List with a single element:\n",
    "print([1])\n",
    "# List with more than one element:\n",
    "print([1, 2, 3])"
   ]
  },
  {
   "cell_type": "code",
   "execution_count": 41,
   "id": "efc8d876",
   "metadata": {},
   "outputs": [
    {
     "name": "stdout",
     "output_type": "stream",
     "text": [
      "[]\n",
      "[1]\n",
      "[1, 2, 3, 4, 5, 6]\n"
     ]
    }
   ],
   "source": [
    "sll = SinglyLinkedList()\n",
    "\n",
    "# Empty list:\n",
    "print(sll)\n",
    "\n",
    "# List with single element:\n",
    "sll.append(1)\n",
    "print(sll)\n",
    "    \n",
    "for number in range(2, 7):\n",
    "    sll.append(number)\n",
    "    \n",
    "print(sll)"
   ]
  },
  {
   "cell_type": "code",
   "execution_count": 49,
   "id": "040b732a",
   "metadata": {},
   "outputs": [
    {
     "name": "stdout",
     "output_type": "stream",
     "text": [
      "[2, 15, 4, 25, 35, 6, 8]\n"
     ]
    }
   ],
   "source": [
    "mylist = [2, 4, 6, 8]\n",
    "\n",
    "mylist.insert(2, 25)\n",
    "mylist.insert(3, 35)\n",
    "mylist.insert(1, 15)\n",
    "print(mylist)\n",
    "\n",
    "# help(mylist)"
   ]
  },
  {
   "cell_type": "code",
   "execution_count": 50,
   "id": "d9be20c1",
   "metadata": {},
   "outputs": [],
   "source": [
    "# Psuedo code implementation of insert\n",
    "# define function (method) insert with the parameters index and value:\n",
    "# create a new Node with the provided value\n",
    "# if the list is empty    // head is set to None\n",
    "    # then, simply update our new node's \"next\" reference so it points to the head\n",
    "    # and, update the head reference so it points to our new node.\n",
    "# otherwise\n",
    "    # // we need to validate that the index is within our list\n",
    "    # // create a helper varibale to keep track of how many times we/ve traversed\n",
    "    # count = 0\n",
    "    # variable current is set to the head node\n",
    "    # create a reference to a previous node, starts off as None\n",
    "    # while count does not equal index and there is a next node to traverse into (current.next)\n",
    "        # previous is updated to point tothe same node as current\n",
    "        # current is updated to the next node in the sequence\n",
    "        # add 1 to the count\n",
    "    # if previous was never updated, then there was only one node in my list\n",
    "    # append the newly created node to my list\n",
    "    # othewise, if count count is equal to the given index:\n",
    "    # // this means, we were able to find the index within te scope of our list\n",
    "    # previous' next reference is updated to point to our newly creacted node\n",
    "    # our newly created node's next reference is updated to tpoint to current\n",
    "        # otherwise\n",
    "        # // this case happens when the index > count\n",
    "        # append the newly created node to my list\n"
   ]
  },
  {
   "cell_type": "code",
   "execution_count": null,
   "id": "594573da",
   "metadata": {},
   "outputs": [],
   "source": [
    "# DoublyLinkedList implemenetation\n",
    "\n",
    "class DoublyLinkedList:\n",
    "    class Node:\n",
    "        def __init__(self, data):\n",
    "            self.data = data\n",
    "            self.next = None\n",
    "            self.prev = None\n",
    "\n",
    "            \n",
    "    def __init__(self):\n",
    "            self.head = None\n",
    "            self.tail = None\n",
    "            self.prev = 0\n",
    "            self.length = 0\n",
    "            \n",
    "    def append(self, value):\n",
    "        new_node = self.Node(value)\n",
    "        if self.tail:\n",
    "            self.tail.next = new_node\n",
    "            new_node.prev = self.tail\n",
    "            self.length += 1\n",
    "        if not self.head:                    \n",
    "            self.head = new_node\n",
    "            self.tail = new_node\n",
    "            self.length += 1\n",
    "        else:\n",
    "            current = self.head\n",
    "            while current.next:\n",
    "                current = current.next         \n",
    "            current.next = new_node\n",
    "            new_node.prev = current \n",
    "            self.length += 1\n",
    "            \n",
    "    def search(self, value):\n",
    "        if not self.head:\n",
    "            return False\n",
    "        else:\n",
    "            current = self.head\n",
    "            tail = self.tail\n",
    "            while current != tail:\n",
    "                if current.data != value and tail.data != value:\n",
    "                    current = current.next\n",
    "                    tail = tail.prev\n",
    "                else:\n",
    "                    return True\n",
    "        return False\n",
    "    \n",
    "    # Challenge: implement binary search as a method to this class (DLL)\n",
    "    def binary_search(self, value):\n",
    "        \n",
    "        pass\n",
    "                \n",
    "    def __str__(self):\n",
    "        out = \"[\"\n",
    "        if self.head:\n",
    "            out += \"%s\" % self.head.data\n",
    "            current = self.head.next\n",
    "            while current:                          \n",
    "                out += \", %s\" % current.data\n",
    "                current = current.next\n",
    "        out += \"]\"\n",
    "        return out\n"
   ]
  },
  {
   "cell_type": "markdown",
   "id": "8ce9c5ef",
   "metadata": {},
   "source": [
    "# Challenge 1\n",
    "\n",
    "### Given two integers as parameters, create a box. The box must be comprised of \"*\".\n",
    "\n",
    "### Example:\n",
    "\n",
    "```\n",
    "myfunction(2, 2) should return:\n",
    "\n",
    "**\n",
    "**\n",
    "\n",
    "myfunction(3, 3) should return:\n",
    "\n",
    "***\n",
    "* *\n",
    "*** \n",
    "\n",
    "myfunction(5, 5) should reurn:\n",
    "\n",
    "*****\n",
    "*   *\n",
    "*   *\n",
    "*   *\n",
    "***** \n",
    "```\n",
    "\n",
    "Parameters will not always be the same."
   ]
  }
 ],
 "metadata": {
  "kernelspec": {
   "display_name": "Python 3 (ipykernel)",
   "language": "python",
   "name": "python3"
  },
  "language_info": {
   "codemirror_mode": {
    "name": "ipython",
    "version": 3
   },
   "file_extension": ".py",
   "mimetype": "text/x-python",
   "name": "python",
   "nbconvert_exporter": "python",
   "pygments_lexer": "ipython3",
   "version": "3.10.6"
  }
 },
 "nbformat": 4,
 "nbformat_minor": 5
}
