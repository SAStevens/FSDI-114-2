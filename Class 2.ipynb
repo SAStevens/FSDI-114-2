{
 "cells": [
  {
   "cell_type": "code",
   "execution_count": 5,
   "id": "c15195e1",
   "metadata": {},
   "outputs": [],
   "source": [
    "# The simplified approach\n",
    "\n",
    "class Stack:\n",
    "    def __init__(self):\n",
    "        self.items = []\n",
    "        \n",
    "    def push(self, element):\n",
    "        self.items.append(element)\n",
    "\n",
    "    def pop(self):\n",
    "        return self.items.pop()\n",
    "\n",
    "    # nice to have methods:\n",
    "    def is_empty(self):\n",
    "        return self.items == []\n",
    "\n",
    "    def size(self):\n",
    "        return len(self.items)\n",
    "\n",
    "    def peek(self):\n",
    "        return self.items[len(self.items)-1]\n"
   ]
  },
  {
   "cell_type": "code",
   "execution_count": 16,
   "id": "cde192c5",
   "metadata": {},
   "outputs": [
    {
     "ename": "NameError",
     "evalue": "name 'new' is not defined",
     "output_type": "error",
     "traceback": [
      "\u001b[0;31m---------------------------------------------------------------------------\u001b[0m",
      "\u001b[0;31mNameError\u001b[0m                                 Traceback (most recent call last)",
      "Cell \u001b[0;32mIn[16], line 10\u001b[0m\n\u001b[1;32m      7\u001b[0m         out \u001b[38;5;241m+\u001b[39m\u001b[38;5;241m=\u001b[39m stack\u001b[38;5;241m.\u001b[39mpop()\n\u001b[1;32m      8\u001b[0m     \u001b[38;5;28;01mreturn\u001b[39;00m out\n\u001b[0;32m---> 10\u001b[0m \u001b[43minvert_str\u001b[49m\u001b[43m(\u001b[49m\u001b[38;5;124;43m\"\u001b[39;49m\u001b[38;5;124;43mScott\u001b[39;49m\u001b[38;5;124;43m\"\u001b[39;49m\u001b[43m)\u001b[49m\n",
      "Cell \u001b[0;32mIn[16], line 4\u001b[0m, in \u001b[0;36minvert_str\u001b[0;34m(mystring)\u001b[0m\n\u001b[1;32m      2\u001b[0m stack \u001b[38;5;241m=\u001b[39m Stack()\n\u001b[1;32m      3\u001b[0m \u001b[38;5;28;01mfor\u001b[39;00m letter \u001b[38;5;129;01min\u001b[39;00m mystring:\n\u001b[0;32m----> 4\u001b[0m     \u001b[43mstack\u001b[49m\u001b[38;5;241;43m.\u001b[39;49m\u001b[43mpush\u001b[49m\u001b[43m(\u001b[49m\u001b[43mletter\u001b[49m\u001b[43m)\u001b[49m\n\u001b[1;32m      5\u001b[0m out \u001b[38;5;241m=\u001b[39m \u001b[38;5;124m\"\u001b[39m\u001b[38;5;124m \u001b[39m\u001b[38;5;124m\"\u001b[39m\n\u001b[1;32m      6\u001b[0m \u001b[38;5;28;01mwhile\u001b[39;00m \u001b[38;5;129;01mnot\u001b[39;00m stack\u001b[38;5;241m.\u001b[39mis_empty():\n",
      "Cell \u001b[0;32mIn[9], line 8\u001b[0m, in \u001b[0;36mStack.push\u001b[0;34m(self, element)\u001b[0m\n\u001b[1;32m      6\u001b[0m new_node \u001b[38;5;241m=\u001b[39m Node(element)\n\u001b[1;32m      7\u001b[0m \u001b[38;5;28;01mif\u001b[39;00m \u001b[38;5;129;01mnot\u001b[39;00m \u001b[38;5;28mself\u001b[39m\u001b[38;5;241m.\u001b[39mbase:           \u001b[38;5;66;03m# O(1)\u001b[39;00m\n\u001b[0;32m----> 8\u001b[0m     \u001b[38;5;28mself\u001b[39m\u001b[38;5;241m.\u001b[39mbase \u001b[38;5;241m=\u001b[39m \u001b[43mnew\u001b[49m\u001b[38;5;241m.\u001b[39mnode\n\u001b[1;32m      9\u001b[0m \u001b[38;5;28;01melse\u001b[39;00m: \n\u001b[1;32m     10\u001b[0m     current \u001b[38;5;241m=\u001b[39m \u001b[38;5;28mself\u001b[39m\u001b[38;5;241m.\u001b[39mbase\n",
      "\u001b[0;31mNameError\u001b[0m: name 'new' is not defined"
     ]
    }
   ],
   "source": [
    "def invert_str(mystring):\n",
    "    stack = Stack()\n",
    "    for letter in mystring:\n",
    "        stack.push(letter)\n",
    "    out = \" \"\n",
    "    while not stack.is_empty():\n",
    "        out += stack.pop()\n",
    "    return out\n",
    "\n",
    "invert_str(\"Scott\")\n"
   ]
  },
  {
   "cell_type": "code",
   "execution_count": 7,
   "id": "64c60b49",
   "metadata": {},
   "outputs": [],
   "source": [
    "class Node:\n",
    "    def __init__(self, data):\n",
    "        self.data = data\n",
    "        self.above = None\n"
   ]
  },
  {
   "cell_type": "code",
   "execution_count": 9,
   "id": "a78c41ea",
   "metadata": {},
   "outputs": [],
   "source": [
    "# C Python\n",
    "# A garbage collected programming language\n",
    "# Reference counting\n",
    "# When the number of references for an object in memory reaches 0, it \"collected\" (memory is freed up).\n",
    "\n",
    "class Stack:\n",
    "    def __init__(self):\n",
    "        self.base = None\n",
    "        \n",
    "    def push(self, element):\n",
    "        new_node = Node(element)\n",
    "        if not self.base:               # O(1)\n",
    "            self.base = new.node\n",
    "        else: \n",
    "            current = self.base         # This is a recipe for traversal using memory address (pass in reference).\n",
    "            while current.above:         \n",
    "                current = current.above\n",
    "            current.above = new_node\n",
    "            \n",
    "    def pop(self):\n",
    "        if not self.base:                          # Equals \"if self.base == None\"\n",
    "            raise IndexError(\"Stack is empty\")\n",
    "        else: \n",
    "            current = self.base\n",
    "            prev = None         \n",
    "            while current.above:\n",
    "                prev = current\n",
    "                current = current.above\n",
    "            if not prev:\n",
    "                datum = self.base.data\n",
    "                self.base = None\n",
    "                return datum\n",
    "            else:\n",
    "                datum = current.data\n",
    "                prev.above = None\n",
    "                return datum\n",
    "            \n",
    "    def is_empty(self):\n",
    "        return self.base == None\n",
    "    \n",
    "    def size(self):\n",
    "        # This method should  return the number (integer) of nodes in our stack.\n",
    "        count = 0\n",
    "        current = self.base\n",
    "        while current:\n",
    "            count += 1\n",
    "            current = current.above\n",
    "        return count\n",
    "    \n",
    "    def peek(self):         #Pop without removing the node in question.\n",
    "        \n",
    "        pass\n",
    "    \n",
    "    def __len__(self):\n",
    "        return self.size()\n"
   ]
  },
  {
   "cell_type": "code",
   "execution_count": 13,
   "id": "ab68cc04",
   "metadata": {},
   "outputs": [
    {
     "name": "stdout",
     "output_type": "stream",
     "text": [
      "6\n",
      "5\n",
      "140438652666256\n",
      "140438652666224\n"
     ]
    }
   ],
   "source": [
    "# Primary data types are passed by value\n",
    "# integers, floats, boolean, imaginary\n",
    "\n",
    "x = 5\n",
    "y = x \n",
    "x = x + 1\n",
    "\n",
    "print(x)\n",
    "print(y)\n",
    "print(id(x))\n",
    "print(id(y))\n"
   ]
  },
  {
   "cell_type": "code",
   "execution_count": 12,
   "id": "d1862090",
   "metadata": {},
   "outputs": [
    {
     "name": "stdout",
     "output_type": "stream",
     "text": [
      "[1, 2, 3, 4]\n",
      "[1, 2, 3, 4]\n",
      "140438455576448\n",
      "140438455576448\n"
     ]
    }
   ],
   "source": [
    "# Other data types are passed by reference\n",
    "\n",
    "x = [1, 2, 3]\n",
    "\n",
    "y = x\n",
    "\n",
    "x.append(4)\n",
    "\n",
    "print(x)\n",
    "print(y)\n",
    "print(id(x))\n",
    "print(id(y))\n"
   ]
  },
  {
   "cell_type": "code",
   "execution_count": 18,
   "id": "60c6d764",
   "metadata": {},
   "outputs": [],
   "source": [
    "# Simplified queue\n",
    "\n",
    "class Queue:\n",
    "    def __init__(self):\n",
    "        self.items = []\n",
    "        \n",
    "    def enqueue(self, element):\n",
    "        self.items.insert(0, element)\n",
    "        \n",
    "    def dequeue(self):\n",
    "        return self.items.pop()\n",
    "    \n",
    "    # nice to have\n",
    "    def is_empty(self):\n",
    "        return self.items == []\n",
    "    \n",
    "    def size(self):\n",
    "        return len(self.items)\n",
    "    \n",
    "    def peek(self):\n",
    "        return self.items[len(self.items)-1]\n"
   ]
  },
  {
   "cell_type": "code",
   "execution_count": null,
   "id": "726a501c",
   "metadata": {},
   "outputs": [],
   "source": [
    "# In our stack implementation, we chose to keep track of the base node; How would keeping track of the \n",
    "# top node change performance?\n",
    "# As a follow up, what operations (or methods) would need to change?\n",
    "\n",
    "#Extra:\n",
    "#Try your hand at the \"from scratch\" implementation of Queue.\n"
   ]
  }
 ],
 "metadata": {
  "kernelspec": {
   "display_name": "Python 3 (ipykernel)",
   "language": "python",
   "name": "python3"
  },
  "language_info": {
   "codemirror_mode": {
    "name": "ipython",
    "version": 3
   },
   "file_extension": ".py",
   "mimetype": "text/x-python",
   "name": "python",
   "nbconvert_exporter": "python",
   "pygments_lexer": "ipython3",
   "version": "3.10.6"
  }
 },
 "nbformat": 4,
 "nbformat_minor": 5
}
