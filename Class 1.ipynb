{
 "cells": [
  {
   "cell_type": "code",
   "execution_count": 1,
   "id": "4b16f87e",
   "metadata": {},
   "outputs": [
    {
     "name": "stdout",
     "output_type": "stream",
     "text": [
      "H\n",
      "e\n",
      "l\n",
      "l\n",
      "o\n",
      ",\n",
      " \n",
      "w\n",
      "o\n",
      "r\n",
      "l\n",
      "d\n"
     ]
    }
   ],
   "source": [
    "for letter in \"Hello, world\":\n",
    "    print(letter)\n",
    "    "
   ]
  },
  {
   "cell_type": "markdown",
   "id": "ad1b12df",
   "metadata": {},
   "source": [
    "# Challenge 1: Anagram checker\n",
    "### Given two strings (string_a and string_b) write a function that returns True is these are anagrams of each other, False otherwise.\n",
    "*Criteria:*\n",
    "> Two strings are anagrams of each other if all the conditions below are met:\n",
    "> 1. They must be of equal length.\n",
    "> 2. They must use the exact same characters (the same amount of times).\n",
    "\n",
    "```\n",
    "Examples:\n",
    "heart and earth\n",
    "cars and scar\n",
    "rats and star\n",
    "```"
   ]
  },
  {
   "cell_type": "code",
   "execution_count": null,
   "id": "920cc460",
   "metadata": {},
   "outputs": [],
   "source": [
    "# Assessment / Assembly / Action\n",
    "\n",
    "#\"tac\" \"cat\"\n",
    "# index = 0\n",
    "# range(len(string_a)) = [0,1,2]\n",
    "# t -> I haven't seen t; I add it to my seen_a dictionary\n",
    "# seen_a = {\"a\": 1}\n",
    "# c-> I haven't seen c; I add it to my seen_b dictionary\n",
    "# seenB = {\"c\": 1}\n",
    "# a -> I haven't seen a; I add it to my seen_a dictionary\n",
    "# ...\n",
    "# seen_a = {\"t\": 1, \"a\": 1, \"c\": 1}\n",
    "# seen_b = {\"c\": 1, \"a\": 1, \"t\": 1}\n",
    "\n",
    "\n",
    "\n",
    "def anagram_check(string_a, string_b):\n",
    "    string_a = string_a.lower().replace(\" \", \" \")\n",
    "    string_b = string_b.lower().replace(\" \", \" \")\n",
    "    if len(string_a) != len(string_b):       # O(1) or constant time\n",
    "        return False\n",
    "    seen_a = dict()\n",
    "    seem_b = dict()\n",
    "    for index in range(len(string_a)):       # O(n) or linear time\n",
    "        if string_a[index] in seen_a.keys():\n",
    "            seen_a[string_a[index]] += 1\n",
    "        else:\n",
    "            seen_a[string_a[index]] = 1\n",
    "        if string_b[index] in seen_b.keys():\n",
    "            seen_b[string_b[index]] += 1\n",
    "        else:\n",
    "            seen_b[string_b[index]] = 1\n",
    "    return seen_a == seen_b \n",
    "\n",
    "# anagram_check(\"I am Lord Voldemort\", \"Tom Marvolo Riddle\")\n"
   ]
  }
 ],
 "metadata": {
  "kernelspec": {
   "display_name": "Python 3 (ipykernel)",
   "language": "python",
   "name": "python3"
  },
  "language_info": {
   "codemirror_mode": {
    "name": "ipython",
    "version": 3
   },
   "file_extension": ".py",
   "mimetype": "text/x-python",
   "name": "python",
   "nbconvert_exporter": "python",
   "pygments_lexer": "ipython3",
   "version": "3.10.6"
  }
 },
 "nbformat": 4,
 "nbformat_minor": 5
}
